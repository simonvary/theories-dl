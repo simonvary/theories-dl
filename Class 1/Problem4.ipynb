{
 "cells": [
  {
   "cell_type": "markdown",
   "metadata": {},
   "source": [
    "# Problem 4: Training a simple neural net"
   ]
  },
  {
   "cell_type": "code",
   "execution_count": 1,
   "metadata": {
    "collapsed": true
   },
   "outputs": [],
   "source": [
    "import numpy as np\n",
    "import matplotlib.pyplot as plt\n",
    "%matplotlib inline"
   ]
  },
  {
   "cell_type": "markdown",
   "metadata": {},
   "source": [
    "### Problem 4c)\n",
    "Begin by loading MNIST as numpy arrays"
   ]
  },
  {
   "cell_type": "code",
   "execution_count": 2,
   "metadata": {},
   "outputs": [
    {
     "name": "stdout",
     "output_type": "stream",
     "text": [
      "(60000, 28, 28) (60000,)\n"
     ]
    }
   ],
   "source": [
    "from torchvision import datasets\n",
    "data = datasets.MNIST('data', train=True, download=True)\n",
    "X_numpy = data.train_data.numpy()/255\n",
    "y_numpy = data.train_labels.numpy()\n",
    "print(X_numpy.shape, y_numpy.shape)"
   ]
  },
  {
   "cell_type": "code",
   "execution_count": 3,
   "metadata": {},
   "outputs": [
    {
     "data": {
      "image/png": "[encoded data removed]",
      "text/plain": [
       "<matplotlib.figure.Figure at 0x1225ed860>"
      ]
     },
     "metadata": {},
     "output_type": "display_data"
    }
   ],
   "source": [
    "def draw_MNIST(image, label = ''):\n",
    "    plt.imshow(image, cmap='gray')\n",
    "    plt.title(label)\n",
    "    plt.show()\n",
    "img_ind = 3\n",
    "draw_MNIST(X_numpy[img_ind], y_numpy[img_ind])"
   ]
  },
  {
   "cell_type": "code",
   "execution_count": 4,
   "metadata": {},
   "outputs": [
    {
     "name": "stdout",
     "output_type": "stream",
     "text": [
      "(60000, 10)\n"
     ]
    }
   ],
   "source": [
    "def onehot(integer_labels):\n",
    "    #Return matrix whose rows are onehot encodings of integers.\n",
    "    onehotL = np.zeros((len(integer_labels), len(np.unique(integer_labels))), dtype='uint8')\n",
    "    onehotL[np.arange(len(integer_labels)), integer_labels] = 1\n",
    "    return onehotL\n",
    "\n",
    "y_numpy_onehot = onehot(y_numpy)\n",
    "print(y_numpy_onehot.shape)"
   ]
  },
  {
   "cell_type": "code",
   "execution_count": 5,
   "metadata": {},
   "outputs": [
    {
     "name": "stdout",
     "output_type": "stream",
     "text": [
      "(40000, 784) (40000, 10)\n",
      "(20000, 784) (20000, 10)\n"
     ]
    }
   ],
   "source": [
    "# Problem 2.ii (Vectorizing)\n",
    "X_numpy_vec = X_numpy.reshape(60000,-1)\n",
    "\n",
    "# Problem 2.iii (Split)\n",
    "N_train = 40000\n",
    "train_img = X_numpy_vec[0:N_train,]\n",
    "train_label = y_numpy_onehot[0:N_train,]\n",
    "print(train_img.shape, train_label.shape)\n",
    "\n",
    "test_img = X_numpy_vec[N_train:,]\n",
    "test_label = y_numpy_onehot[N_train:]\n",
    "print(test_img.shape, test_label.shape)"
   ]
  },
  {
   "cell_type": "markdown",
   "metadata": {},
   "source": [
    "### Prepare mini-batch"
   ]
  },
  {
   "cell_type": "code",
   "execution_count": 6,
   "metadata": {
    "collapsed": true
   },
   "outputs": [],
   "source": [
    "batch_size = 4\n",
    "def mbatch_MNIST(img, label, ind):\n",
    "    sample_img = img[ind,]\n",
    "    sample_label = label[ind,]\n",
    "    return (sample_img, sample_label)\n",
    "ind = np.random.permutation(train_label.shape[0]).reshape(-1,batch_size)"
   ]
  },
  {
   "cell_type": "markdown",
   "metadata": {},
   "source": [
    "### MNIST 2-layer neural net with ReLU"
   ]
  },
  {
   "cell_type": "code",
   "execution_count": 7,
   "metadata": {},
   "outputs": [
    {
     "name": "stdout",
     "output_type": "stream",
     "text": [
      "Epoch 0 Accuracy 93.66\n",
      "Epoch 1 Accuracy 95.28\n",
      "Epoch 2 Accuracy 95.83\n",
      "Epoch 3 Accuracy 96.02000000000001\n",
      "Epoch 4 Accuracy 96.235\n",
      "Epoch 5 Accuracy 96.44500000000001\n",
      "Epoch 6 Accuracy 96.54\n",
      "Epoch 7 Accuracy 96.61\n",
      "Epoch 8 Accuracy 96.73\n",
      "Epoch 9 Accuracy 96.85000000000001\n",
      "Epoch 10 Accuracy 96.95\n",
      "Epoch 11 Accuracy 96.89999999999999\n",
      "Epoch 12 Accuracy 97.02\n",
      "Epoch 13 Accuracy 97.015\n",
      "Epoch 14 Accuracy 97.11\n",
      "Epoch 15 Accuracy 97.14\n",
      "Epoch 16 Accuracy 97.205\n",
      "Epoch 17 Accuracy 97.055\n",
      "Epoch 18 Accuracy 97.15\n",
      "Epoch 19 Accuracy 97.14\n",
      "Epoch 20 Accuracy 97.23\n",
      "Epoch 21 Accuracy 97.15\n",
      "Epoch 22 Accuracy 97.2\n",
      "Epoch 23 Accuracy 97.22\n",
      "Epoch 24 Accuracy 97.2\n",
      "Epoch 25 Accuracy 97.21499999999999\n",
      "Epoch 26 Accuracy 97.24000000000001\n",
      "Epoch 27 Accuracy 97.18\n",
      "Epoch 28 Accuracy 97.295\n",
      "Epoch 29 Accuracy 97.18\n"
     ]
    }
   ],
   "source": [
    "def feed_forward(X, weights):\n",
    "    a = [None, None, None]\n",
    "    a[0] = X\n",
    "    a[1] = np.maximum(a[0].dot(weights[0]), 0)\n",
    "    a[2] = np.maximum(a[1].dot(weights[1]), 0)\n",
    "    return a\n",
    "\n",
    "def grads(X, Y, weights):\n",
    "    grads = np.empty_like(weights)\n",
    "    a = feed_forward(X, weights)\n",
    "    delta = a[2] - Y\n",
    "    grads[1] = a[1].T.dot(delta)\n",
    "    delta = (a[1] > 0) * delta.dot(weights[1].T)\n",
    "    grads[0] = a[0].T.dot(delta)\n",
    "    return grads / len(X)\n",
    "\n",
    "\n",
    "weights = [np.random.randn(*w) * 0.1 for w in [(784, 100), (100, 10)]]\n",
    "num_epochs, batch_size, learn_rate = 30, 20, 0.1\n",
    "\n",
    "for i in range(num_epochs):\n",
    "    ind = np.random.permutation(train_label.shape[0]).reshape(-1,batch_size)\n",
    "    for j in range(0, ind.shape[0]):\n",
    "        X, Y = mbatch_MNIST(train_img, train_label, ind[j,:])\n",
    "        weights -= learn_rate * grads(X, Y, weights)\n",
    "    prediction = np.argmax(feed_forward(test_img, weights)[-1], axis=1)\n",
    "    print ('Epoch',i, 'Accuracy',100*np.mean(prediction == np.argmax(test_label, axis=1)))"
   ]
  },
  {
   "cell_type": "markdown",
   "metadata": {},
   "source": [
    "### Problem 4a: $N$-alternating points problem"
   ]
  },
  {
   "cell_type": "code",
   "execution_count": 8,
   "metadata": {},
   "outputs": [
    {
     "data": {
      "image/png": "[encoded data removed]",
      "text/plain": [
       "<matplotlib.figure.Figure at 0x13bdf62e8>"
      ]
     },
     "metadata": {},
     "output_type": "display_data"
    }
   ],
   "source": [
    "N = 3\n",
    "X = np.linspace(0, 1-2**(-N), num=2**N).reshape(2**N,1)\n",
    "y = np.empty((2**N,1))\n",
    "y[::2] = 0  # even entries are 0\n",
    "y[1::2] = 1 # odd entries are 1\n",
    "\n",
    "plt.plot(X,y, 'ro')\n",
    "plt.axis([-0.1, 1.1, -0.1, 1.1])\n",
    "plt.show()"
   ]
  },
  {
   "cell_type": "code",
   "execution_count": 9,
   "metadata": {
    "collapsed": true
   },
   "outputs": [],
   "source": [
    "def sigmoid(x):\n",
    "    return 1.0/(1+ np.exp(-x))\n",
    "\n",
    "def sigmoid_derivative(x):\n",
    "    return x * (1.0 - x)\n",
    "\n",
    "class NeuralNetwork:\n",
    "    def __init__(self, x, y):\n",
    "        self.input      = x\n",
    "        self.weights1   = np.random.rand(self.input.shape[1],50) # Using 2 Nodes\n",
    "        self.weights2   = np.random.rand(50,4)\n",
    "        self.weights3   = np.random.rand(4,1)                 \n",
    "        self.y          = y\n",
    "        self.output     = np.zeros(self.y.shape)\n",
    "\n",
    "    def feedforward(self):\n",
    "        #print(self.input.shape,self.weights1.shape)\n",
    "        self.layer1 = sigmoid(np.dot(self.input, self.weights1))\n",
    "        self.layer2 = sigmoid(np.dot(self.layer1, self.weights2))\n",
    "        self.output = sigmoid(np.dot(self.layer2, self.weights3))\n",
    "\n",
    "    def backprop(self):\n",
    "        # application of the chain rule to find derivative of the loss function with respect to weights2 and weights1\n",
    "        d_weights3 = np.dot(self.layer2.T, (2*(self.y - self.output) * sigmoid_derivative(self.output)))\n",
    "        d_weights2 = np.dot(self.layer1.T,  (np.dot(2*(self.y - self.output) * sigmoid_derivative(self.output), self.weights3.T) * sigmoid_derivative(self.layer2)))\n",
    "        d_weights1 = np.dot(self.input.T,  (np.dot(np.dot(2*(self.y - self.output) * sigmoid_derivative(self.output), self.weights3.T), self.weights2.T) * sigmoid_derivative(self.layer1))   )\n",
    "\n",
    "        # update the weights with the derivative (slope) of the loss function\n",
    "        self.weights1 += d_weights1\n",
    "        self.weights2 += d_weights2\n",
    "        self.weights3 += d_weights3"
   ]
  },
  {
   "cell_type": "code",
   "execution_count": 10,
   "metadata": {},
   "outputs": [
    {
     "name": "stdout",
     "output_type": "stream",
     "text": [
      "Prediction:\n",
      " [[0.02302204]\n",
      " [0.97542065]\n",
      " [0.17937187]\n",
      " [0.66876458]\n",
      " [0.68804391]\n",
      " [0.68975784]\n",
      " [0.68993772]\n",
      " [0.68995801]]\n"
     ]
    }
   ],
   "source": [
    "nn = NeuralNetwork(X,y)\n",
    "for i in range(10000):\n",
    "    nn.feedforward()\n",
    "    nn.backprop()\n",
    "\n",
    "print('Prediction:\\n',nn.output)"
   ]
  },
  {
   "cell_type": "code",
   "execution_count": 11,
   "metadata": {},
   "outputs": [],
   "source": [
    "def sigmoid(x):\n",
    "    return 1.0/(1+ np.exp(-x))\n",
    "\n",
    "def sigmoid_derivative(x):\n",
    "    return x * (1.0 - x)\n",
    "\n",
    "class NeuralNetwork:\n",
    "    def __init__(self, x, y):\n",
    "        self.input      = x\n",
    "        self.weights1   = np.random.rand(self.input.shape[1],8)\n",
    "        self.weights2   = np.random.rand(8,1)\n",
    "        self.y          = y\n",
    "        self.output     = np.zeros(self.y.shape)\n",
    "\n",
    "    def feedforward(self):\n",
    "        #print(self.input.shape,self.weights1.shape)\n",
    "        self.layer1 = sigmoid(np.dot(self.input, self.weights1))\n",
    "        self.output = sigmoid(np.dot(self.layer1, self.weights2))\n",
    "\n",
    "    def backprop(self):\n",
    "        # application of the chain rule to find derivative of the loss function with respect to weights2 and weights1\n",
    "        d_weights2 = np.dot(self.layer1.T, (2*(self.y - self.output) * sigmoid_derivative(self.output)))\n",
    "        d_weights1 = np.dot(self.input.T,  (np.dot(np.dot(2*(self.y - self.output) * sigmoid_derivative(self.output), self.weights2.T), self.weights1.T) * sigmoid_derivative(self.layer1))   )\n",
    "\n",
    "        # update the weights with the derivative (slope) of the loss function\n",
    "        self.weights1 += d_weights1\n",
    "        self.weights2 += d_weights2\n"
   ]
  },
  {
   "cell_type": "code",
   "execution_count": 12,
   "metadata": {},
   "outputs": [
    {
     "name": "stdout",
     "output_type": "stream",
     "text": [
      "Prediction:\n",
      " [[0.43393439]\n",
      " [0.43392502]\n",
      " [0.43391564]\n",
      " [0.43390624]\n",
      " [0.43389681]\n",
      " [0.43388735]\n",
      " [0.43387784]\n",
      " [0.43386827]]\n"
     ]
    }
   ],
   "source": [
    "nn = NeuralNetwork(X,y)\n",
    "for i in range(100000):\n",
    "    nn.feedforward()\n",
    "    nn.backprop()\n",
    "\n",
    "print('Prediction:\\n',nn.output)"
   ]
  },
  {
   "cell_type": "code",
   "execution_count": 13,
   "metadata": {},
   "outputs": [
    {
     "name": "stdout",
     "output_type": "stream",
     "text": [
      "Prediction:\n",
      " [[0.01974128]\n",
      " [0.95331427]\n",
      " [0.95331427]\n",
      " [0.06246238]]\n"
     ]
    }
   ],
   "source": [
    "import numpy as np\n",
    "\n",
    "def sigmoid(x):\n",
    "    return 1.0/(1+ np.exp(-x))\n",
    "\n",
    "def sigmoid_derivative(x):\n",
    "    return x * (1.0 - x)\n",
    "\n",
    "class NeuralNetwork:\n",
    "    def __init__(self, x, y):\n",
    "        self.input      = x\n",
    "        self.weights1   = np.random.rand(self.input.shape[1],2) # Using 2 Nodes\n",
    "        self.weights2   = np.random.rand(2,1)                 \n",
    "        self.y          = y\n",
    "        self.output     = np.zeros(self.y.shape)\n",
    "\n",
    "    def feedforward(self):\n",
    "        #print(self.input.shape,self.weights1.shape)\n",
    "        self.layer1 = sigmoid(np.dot(self.input, self.weights1))\n",
    "        self.output = sigmoid(np.dot(self.layer1, self.weights2))\n",
    "\n",
    "    def backprop(self):\n",
    "        # application of the chain rule to find derivative of the loss function with respect to weights2 and weights1\n",
    "        d_weights2 = np.dot(self.layer1.T, (2*(self.y - self.output) * sigmoid_derivative(self.output)))\n",
    "        d_weights1 = np.dot(self.input.T,  (np.dot(2*(self.y - self.output) * sigmoid_derivative(self.output), self.weights2.T) * sigmoid_derivative(self.layer1)))\n",
    "\n",
    "        # update the weights with the derivative (slope) of the loss function\n",
    "        self.weights1 += d_weights1\n",
    "        self.weights2 += d_weights2\n",
    "\n",
    "\n",
    "X = np.array([[0,0],\n",
    "              [0,1],\n",
    "              [1,0],\n",
    "              [1,1]])\n",
    "y = np.array([[0],[1],[1],[0]])\n",
    "nn = NeuralNetwork(X,y)\n",
    "\n",
    "for i in range(10000):\n",
    "    nn.feedforward()\n",
    "    nn.backprop()\n",
    "print('Prediction:\\n',nn.output)"
   ]
  }
 ],
 "metadata": {
  "anaconda-cloud": {},
  "kernelspec": {
   "display_name": "Python [conda env:anaconda]",
   "language": "python",
   "name": "conda-env-anaconda-py"
  },
  "language_info": {
   "codemirror_mode": {
    "name": "ipython",
    "version": 3
   },
   "file_extension": ".py",
   "mimetype": "text/x-python",
   "name": "python",
   "nbconvert_exporter": "python",
   "pygments_lexer": "ipython3",
   "version": "3.5.2"
  }
 },
 "nbformat": 4,
 "nbformat_minor": 1
}
