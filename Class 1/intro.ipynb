{
 "cells": [
  {
   "cell_type": "markdown",
   "metadata": {},
   "source": [
    "# Starting with Python"
   ]
  },
  {
   "cell_type": "markdown",
   "metadata": {},
   "source": [
    "I recommend installing Python through the enviroment manager [Conda](http://conda.io).\n",
    "There is a minimal distribution called [Miniconda](https://conda.io/miniconda.html) you can use (we will aim to use Python3.6/Python3.7)\n",
    "\n",
    "\n",
    "After installing **Conda**, you can easily install libraries (e.g. numpy) by typing into your terminal the following:\n",
    "~~~~\n",
    "conda install -c anaconda numpy \n",
    "~~~~\n",
    "\n",
    "Later we will be using [pytorch](https://pytorch.org/get-started/locally/) to implement neural nets. You can install the basic version (with no CUDA support) by typing into your terminal:\n",
    "~~~~\n",
    "conda install pytorch torchvision -c pytorch\n",
    "~~~~\n",
    "\n",
    "You should now be able to start a jupyter notebook in your browser by typing\n",
    "~~~~\n",
    "jupyter notebook\n",
    "~~~~\n",
    "If you want to start it in a specific folder, navigate to it first.\n",
    "\n",
    "For more on basics of Python and numpy, look at the following tutorial\n",
    "http://cs231n.github.io/python-numpy-tutorial/"
   ]
  },
  {
   "cell_type": "markdown",
   "metadata": {},
   "source": [
    "### Problem 2: Preparing MNIST\n",
    "It may be troublesome to load [**MNIST**](http://yann.lecun.com/exdb/mnist/), a benchmark dataset of digits, into Python as a **numpy** array. Here we use the basic functionality of **torchvision** to easen the task.\n",
    "\n",
    "You should then continue the excercise using **numpy** (i.e. without the use of **torch** or **torchvision**)."
   ]
  },
  {
   "cell_type": "code",
   "execution_count": 1,
   "metadata": {
    "collapsed": true
   },
   "outputs": [],
   "source": [
    "import numpy as np\n",
    "import matplotlib.pyplot as plt\n",
    "%matplotlib inline"
   ]
  },
  {
   "cell_type": "markdown",
   "metadata": {},
   "source": [
    "Note the below will create a folder in your working directory called *data*, download **MNIST**, and load it as numpy arrays."
   ]
  },
  {
   "cell_type": "code",
   "execution_count": 2,
   "metadata": {},
   "outputs": [
    {
     "name": "stdout",
     "output_type": "stream",
     "text": [
      "(60000, 28, 28) (60000,)\n"
     ]
    }
   ],
   "source": [
    "from torchvision import datasets\n",
    "data = datasets.MNIST('data', train=True, download=True)\n",
    "X_numpy = data.train_data.numpy()\n",
    "y_numpy = data.train_labels.numpy()\n",
    "print(X_numpy.shape, y_numpy.shape)"
   ]
  }
 ],
 "metadata": {
  "anaconda-cloud": {},
  "kernelspec": {
   "display_name": "Python [default]",
   "language": "python",
   "name": "python3"
  },
  "language_info": {
   "codemirror_mode": {
    "name": "ipython",
    "version": 3
   },
   "file_extension": ".py",
   "mimetype": "text/x-python",
   "name": "python",
   "nbconvert_exporter": "python",
   "pygments_lexer": "ipython3",
   "version": "3.5.2"
  }
 },
 "nbformat": 4,
 "nbformat_minor": 1
}
